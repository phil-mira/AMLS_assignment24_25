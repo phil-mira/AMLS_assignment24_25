{
 "cells": [
  {
   "cell_type": "code",
   "execution_count": 11,
   "metadata": {},
   "outputs": [
    {
     "data": {
      "text/plain": [
       "(11959, 28, 28, 3)"
      ]
     },
     "execution_count": 11,
     "metadata": {},
     "output_type": "execute_result"
    }
   ],
   "source": [
    "#view image in breastmnist file in dataset folder\n",
    "import matplotlib.pyplot as plt\n",
    "from sklearn.decomposition import PCA\n",
    "from sklearn.preprocessing import OneHotEncoder\n",
    "import numpy as np\n",
    "import os\n",
    "\n",
    "dfile = '../Datasets/bloodmnist.npz'\n",
    "if not os.path.exists(dfile):\n",
    "\traise FileNotFoundError(f\"The file {dfile} does not exist.\")\n",
    "data_bloodmnist = np.load(dfile)\n",
    "\n",
    "images = data_bloodmnist['train_images']\n",
    "\n",
    "images.shape\n"
   ]
  },
  {
   "cell_type": "code",
   "execution_count": 12,
   "metadata": {},
   "outputs": [
    {
     "name": "stdout",
     "output_type": "stream",
     "text": [
      "Train images: (11959, 28, 28, 3)\n",
      "Train labels: (11959, 1)\n",
      "{0: 852, 1: 2181, 2: 1085, 3: 2026, 4: 849, 5: 993, 6: 2330, 7: 1643}\n"
     ]
    }
   ],
   "source": [
    "#Exploring the bloodmnist dataset\n",
    "\n",
    "bloodmnist_train_images = data_bloodmnist['train_images']\n",
    "bloodmnist_train_labels = data_bloodmnist['train_labels']\n",
    "\n",
    "bloodmnist_val_images = data_bloodmnist['val_images']\n",
    "bloodmnist_val_labels = data_bloodmnist['val_labels']\n",
    "\n",
    "bloodmnist_test_images = data_bloodmnist['test_images']\n",
    "bloodmnist_test_labels = data_bloodmnist['test_labels']\n",
    "\n",
    "#Inspect the data\n",
    "print(f\"Train images: {bloodmnist_train_images.shape}\")\n",
    "print(f\"Train labels: {bloodmnist_train_labels.shape}\")\n",
    "\n",
    "#Summary statistics of the labels\n",
    "unique, counts = np.unique(bloodmnist_train_labels, return_counts=True)\n",
    "print(dict(zip(unique, counts)))"
   ]
  },
  {
   "cell_type": "code",
   "execution_count": 13,
   "metadata": {},
   "outputs": [
    {
     "name": "stdout",
     "output_type": "stream",
     "text": [
      "Train labels: (11959, 8)\n"
     ]
    }
   ],
   "source": [
    "#Perform one-hot encoding of the labels\n",
    "enc = OneHotEncoder()\n",
    "enc.fit(bloodmnist_train_labels.reshape(-1, 1))\n",
    "bloodmnist_train_labels = enc.transform(bloodmnist_train_labels.reshape(-1, 1)).toarray()\n",
    "bloodmnist_val_labels = enc.transform(bloodmnist_val_labels.reshape(-1, 1)).toarray()\n",
    "bloodmnist_test_labels = enc.transform(bloodmnist_test_labels.reshape(-1, 1)).toarray()\n",
    "\n",
    "# Inspect the one-hot encoded labels\n",
    "print(f\"Train labels: {bloodmnist_train_labels.shape}\")\n",
    "\n",
    "\n"
   ]
  }
 ],
 "metadata": {
  "kernelspec": {
   "display_name": "MLS_1",
   "language": "python",
   "name": "python3"
  },
  "language_info": {
   "codemirror_mode": {
    "name": "ipython",
    "version": 3
   },
   "file_extension": ".py",
   "mimetype": "text/x-python",
   "name": "python",
   "nbconvert_exporter": "python",
   "pygments_lexer": "ipython3",
   "version": "3.12.7"
  }
 },
 "nbformat": 4,
 "nbformat_minor": 2
}
